{
 "cells": [
  {
   "cell_type": "markdown",
   "metadata": {},
   "source": [
    "# Multiple linear regression with sklearn\n",
    "\n",
    "Using linear regression model from sklearn library as a benchmark before implementing our own multiple linear regression model.\n",
    "For evaluation, for comparing, we will be using R-squared metric."
   ]
  },
  {
   "cell_type": "markdown",
   "metadata": {},
   "source": [
    "### Importing dataset"
   ]
  },
  {
   "cell_type": "code",
   "execution_count": 1,
   "metadata": {},
   "outputs": [],
   "source": [
    "# Importing libraries\n",
    "import numpy as np\n",
    "import matplotlib.pyplot as plt\n",
    "import pandas as pd"
   ]
  },
  {
   "cell_type": "code",
   "execution_count": 2,
   "metadata": {},
   "outputs": [
    {
     "data": {
      "text/html": [
       "<div>\n",
       "<style scoped>\n",
       "    .dataframe tbody tr th:only-of-type {\n",
       "        vertical-align: middle;\n",
       "    }\n",
       "\n",
       "    .dataframe tbody tr th {\n",
       "        vertical-align: top;\n",
       "    }\n",
       "\n",
       "    .dataframe thead th {\n",
       "        text-align: right;\n",
       "    }\n",
       "</style>\n",
       "<table border=\"1\" class=\"dataframe\">\n",
       "  <thead>\n",
       "    <tr style=\"text-align: right;\">\n",
       "      <th></th>\n",
       "      <th>price</th>\n",
       "      <th>location_city</th>\n",
       "      <th>location_city_district</th>\n",
       "      <th>area_property</th>\n",
       "      <th>num_floors_building</th>\n",
       "      <th>apartment_floor</th>\n",
       "      <th>registered</th>\n",
       "      <th>heating_type</th>\n",
       "      <th>num_rooms</th>\n",
       "      <th>num_bathrooms</th>\n",
       "    </tr>\n",
       "  </thead>\n",
       "  <tbody>\n",
       "    <tr>\n",
       "      <th>0</th>\n",
       "      <td>109000.0</td>\n",
       "      <td>beograd</td>\n",
       "      <td>stari grad</td>\n",
       "      <td>71.0</td>\n",
       "      <td>9.0</td>\n",
       "      <td>7.0</td>\n",
       "      <td>False</td>\n",
       "      <td>Centralno</td>\n",
       "      <td>2.0</td>\n",
       "      <td>1.0</td>\n",
       "    </tr>\n",
       "    <tr>\n",
       "      <th>1</th>\n",
       "      <td>149500.0</td>\n",
       "      <td>beograd</td>\n",
       "      <td>stari grad</td>\n",
       "      <td>74.0</td>\n",
       "      <td>4.0</td>\n",
       "      <td>2.0</td>\n",
       "      <td>True</td>\n",
       "      <td>Centralno</td>\n",
       "      <td>3.0</td>\n",
       "      <td>1.0</td>\n",
       "    </tr>\n",
       "    <tr>\n",
       "      <th>2</th>\n",
       "      <td>108000.0</td>\n",
       "      <td>beograd</td>\n",
       "      <td>zvezdara</td>\n",
       "      <td>60.0</td>\n",
       "      <td>4.0</td>\n",
       "      <td>3.0</td>\n",
       "      <td>False</td>\n",
       "      <td>Etažno</td>\n",
       "      <td>2.5</td>\n",
       "      <td>1.0</td>\n",
       "    </tr>\n",
       "    <tr>\n",
       "      <th>3</th>\n",
       "      <td>145000.0</td>\n",
       "      <td>beograd</td>\n",
       "      <td>vracar</td>\n",
       "      <td>96.0</td>\n",
       "      <td>2.0</td>\n",
       "      <td>1.0</td>\n",
       "      <td>True</td>\n",
       "      <td>Etažno</td>\n",
       "      <td>4.5</td>\n",
       "      <td>1.0</td>\n",
       "    </tr>\n",
       "    <tr>\n",
       "      <th>4</th>\n",
       "      <td>180000.0</td>\n",
       "      <td>beograd</td>\n",
       "      <td>palilula</td>\n",
       "      <td>94.0</td>\n",
       "      <td>5.0</td>\n",
       "      <td>4.0</td>\n",
       "      <td>True</td>\n",
       "      <td>Centralno</td>\n",
       "      <td>4.0</td>\n",
       "      <td>1.0</td>\n",
       "    </tr>\n",
       "  </tbody>\n",
       "</table>\n",
       "</div>"
      ],
      "text/plain": [
       "      price location_city location_city_district  area_property  \\\n",
       "0  109000.0       beograd             stari grad           71.0   \n",
       "1  149500.0       beograd             stari grad           74.0   \n",
       "2  108000.0       beograd               zvezdara           60.0   \n",
       "3  145000.0       beograd                 vracar           96.0   \n",
       "4  180000.0       beograd               palilula           94.0   \n",
       "\n",
       "   num_floors_building  apartment_floor  registered heating_type  num_rooms  \\\n",
       "0                  9.0              7.0       False    Centralno        2.0   \n",
       "1                  4.0              2.0        True    Centralno        3.0   \n",
       "2                  4.0              3.0       False       Etažno        2.5   \n",
       "3                  2.0              1.0        True       Etažno        4.5   \n",
       "4                  5.0              4.0        True    Centralno        4.0   \n",
       "\n",
       "   num_bathrooms  \n",
       "0            1.0  \n",
       "1            1.0  \n",
       "2            1.0  \n",
       "3            1.0  \n",
       "4            1.0  "
      ]
     },
     "execution_count": 2,
     "metadata": {},
     "output_type": "execute_result"
    }
   ],
   "source": [
    "# Importing cleaned dataset with apartments for sale in Belgrade\n",
    "dataset = pd.read_csv('../../database/backup/belgrade_flats.csv')\n",
    "dataset.head()"
   ]
  },
  {
   "cell_type": "markdown",
   "metadata": {},
   "source": [
    "### Preparing data for modeling\n",
    "\n",
    "Over multiple iterations and testing with various column combinations, creating new columns etc...best model performance was achieved when we removed the following columns:\n",
    "- num_floors_building\n",
    "- num_bathrooms\n",
    "- apartment_floor\n",
    "\n",
    "That slight change/improvement, when using the remaining combination of columns was nothing substantial, but anyhow, in this example we're using the columns that provided the best model performance.  "
   ]
  },
  {
   "cell_type": "code",
   "execution_count": 3,
   "metadata": {},
   "outputs": [
    {
     "data": {
      "text/html": [
       "<div>\n",
       "<style scoped>\n",
       "    .dataframe tbody tr th:only-of-type {\n",
       "        vertical-align: middle;\n",
       "    }\n",
       "\n",
       "    .dataframe tbody tr th {\n",
       "        vertical-align: top;\n",
       "    }\n",
       "\n",
       "    .dataframe thead th {\n",
       "        text-align: right;\n",
       "    }\n",
       "</style>\n",
       "<table border=\"1\" class=\"dataframe\">\n",
       "  <thead>\n",
       "    <tr style=\"text-align: right;\">\n",
       "      <th></th>\n",
       "      <th>price</th>\n",
       "      <th>location_city_district</th>\n",
       "      <th>area_property</th>\n",
       "      <th>registered</th>\n",
       "      <th>heating_type</th>\n",
       "      <th>num_rooms</th>\n",
       "    </tr>\n",
       "  </thead>\n",
       "  <tbody>\n",
       "    <tr>\n",
       "      <th>0</th>\n",
       "      <td>109000.0</td>\n",
       "      <td>stari grad</td>\n",
       "      <td>71.0</td>\n",
       "      <td>False</td>\n",
       "      <td>Centralno</td>\n",
       "      <td>2.0</td>\n",
       "    </tr>\n",
       "    <tr>\n",
       "      <th>1</th>\n",
       "      <td>149500.0</td>\n",
       "      <td>stari grad</td>\n",
       "      <td>74.0</td>\n",
       "      <td>True</td>\n",
       "      <td>Centralno</td>\n",
       "      <td>3.0</td>\n",
       "    </tr>\n",
       "    <tr>\n",
       "      <th>2</th>\n",
       "      <td>108000.0</td>\n",
       "      <td>zvezdara</td>\n",
       "      <td>60.0</td>\n",
       "      <td>False</td>\n",
       "      <td>Etažno</td>\n",
       "      <td>2.5</td>\n",
       "    </tr>\n",
       "    <tr>\n",
       "      <th>3</th>\n",
       "      <td>145000.0</td>\n",
       "      <td>vracar</td>\n",
       "      <td>96.0</td>\n",
       "      <td>True</td>\n",
       "      <td>Etažno</td>\n",
       "      <td>4.5</td>\n",
       "    </tr>\n",
       "    <tr>\n",
       "      <th>4</th>\n",
       "      <td>180000.0</td>\n",
       "      <td>palilula</td>\n",
       "      <td>94.0</td>\n",
       "      <td>True</td>\n",
       "      <td>Centralno</td>\n",
       "      <td>4.0</td>\n",
       "    </tr>\n",
       "  </tbody>\n",
       "</table>\n",
       "</div>"
      ],
      "text/plain": [
       "      price location_city_district  area_property  registered heating_type  \\\n",
       "0  109000.0             stari grad           71.0       False    Centralno   \n",
       "1  149500.0             stari grad           74.0        True    Centralno   \n",
       "2  108000.0               zvezdara           60.0       False       Etažno   \n",
       "3  145000.0                 vracar           96.0        True       Etažno   \n",
       "4  180000.0               palilula           94.0        True    Centralno   \n",
       "\n",
       "   num_rooms  \n",
       "0        2.0  \n",
       "1        3.0  \n",
       "2        2.5  \n",
       "3        4.5  \n",
       "4        4.0  "
      ]
     },
     "execution_count": 3,
     "metadata": {},
     "output_type": "execute_result"
    }
   ],
   "source": [
    "# Reving columns that aren't going to be used in regression model\n",
    "dataset = dataset.drop(columns=['location_city', 'num_floors_building', 'num_bathrooms', 'apartment_floor'])\n",
    "dataset.head()"
   ]
  },
  {
   "cell_type": "code",
   "execution_count": 4,
   "metadata": {},
   "outputs": [],
   "source": [
    "# Splitting dataset into features (input values) and output value \n",
    "X = dataset.iloc[:, 1:].values\n",
    "y = dataset.iloc[:, 0].values"
   ]
  },
  {
   "cell_type": "code",
   "execution_count": 5,
   "metadata": {},
   "outputs": [],
   "source": [
    "# Encocding catgorical variables:\n",
    "# 1. City district/municipality\n",
    "# 2. Heating type\n",
    "\n",
    "from sklearn.compose import ColumnTransformer\n",
    "from sklearn.preprocessing import OneHotEncoder\n",
    "ct = ColumnTransformer(transformers=[('encoder', OneHotEncoder(), [0, 3])], remainder='passthrough')\n",
    "X = np.array(ct.fit_transform(X))"
   ]
  },
  {
   "cell_type": "code",
   "execution_count": 6,
   "metadata": {},
   "outputs": [],
   "source": [
    "# Splitting dataset into train and test dataset\n",
    "from sklearn.model_selection import train_test_split\n",
    "X_train, X_test, y_train, y_test = train_test_split(X.tolist(), y, test_size = 0.2, random_state = 0)"
   ]
  },
  {
   "cell_type": "markdown",
   "metadata": {},
   "source": [
    "### Creating Multiple Linear Regression Model"
   ]
  },
  {
   "cell_type": "code",
   "execution_count": 7,
   "metadata": {},
   "outputs": [
    {
     "data": {
      "text/plain": [
       "LinearRegression()"
      ]
     },
     "execution_count": 7,
     "metadata": {},
     "output_type": "execute_result"
    }
   ],
   "source": [
    "# Training multiple linear regression model\n",
    "from sklearn.linear_model import LinearRegression\n",
    "regressor = LinearRegression(normalize=False)\n",
    "regressor.fit(X_train, y_train)"
   ]
  },
  {
   "cell_type": "code",
   "execution_count": 8,
   "metadata": {},
   "outputs": [
    {
     "name": "stdout",
     "output_type": "stream",
     "text": [
      "[[265682.76 215000.  ]\n",
      " [152704.58  89900.  ]\n",
      " [252579.94 249000.  ]\n",
      " ...\n",
      " [185172.39 204000.  ]\n",
      " [106774.    68500.  ]\n",
      " [105930.73  75000.  ]]\n"
     ]
    }
   ],
   "source": [
    "# Creating predictions on testing dataset\n",
    "y_pred = regressor.predict(X_test)\n",
    "np.set_printoptions(precision=2)\n",
    "print(np.concatenate((y_pred.reshape(len(y_pred),1), y_test.reshape(len(y_test),1)),1))"
   ]
  },
  {
   "cell_type": "markdown",
   "metadata": {},
   "source": [
    "### Evaluating our model"
   ]
  },
  {
   "cell_type": "code",
   "execution_count": 9,
   "metadata": {},
   "outputs": [
    {
     "name": "stdout",
     "output_type": "stream",
     "text": [
      "[0.58 0.65 0.56 0.58 0.61 0.52 0.7  0.55 0.54 0.67]\n",
      "0.5974855592482461\n"
     ]
    }
   ],
   "source": [
    "# Using cross validation to evaluate performance of our model\n",
    "\n",
    "from sklearn.model_selection import cross_val_score\n",
    "scores = cross_val_score(regressor, X_train, y_train, scoring='r2', cv=10)\n",
    "print(scores)\n",
    "print(scores.mean())"
   ]
  },
  {
   "cell_type": "code",
   "execution_count": 10,
   "metadata": {},
   "outputs": [
    {
     "data": {
      "text/plain": [
       "0.6885286721045634"
      ]
     },
     "execution_count": 10,
     "metadata": {},
     "output_type": "execute_result"
    }
   ],
   "source": [
    "# Calculating R-squared metric\n",
    "\n",
    "from sklearn.metrics import r2_score\n",
    "r2_score(y_test, y_pred)"
   ]
  }
 ],
 "metadata": {
  "kernelspec": {
   "display_name": "Python 3",
   "language": "python",
   "name": "python3"
  },
  "language_info": {
   "codemirror_mode": {
    "name": "ipython",
    "version": 3
   },
   "file_extension": ".py",
   "mimetype": "text/x-python",
   "name": "python",
   "nbconvert_exporter": "python",
   "pygments_lexer": "ipython3",
   "version": "3.8.5"
  }
 },
 "nbformat": 4,
 "nbformat_minor": 4
}
